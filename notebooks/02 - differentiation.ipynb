{
 "cells": [
  {
   "cell_type": "code",
   "execution_count": 1,
   "metadata": {},
   "outputs": [],
   "source": [
    "import torch"
   ]
  },
  {
   "cell_type": "markdown",
   "metadata": {},
   "source": [
    "\\begin{equation}\n",
    "    u_{i,j} =\n",
    "    \\begin{bmatrix}\n",
    "      \\frac{\\partial u_1}{\\partial x_1} & \n",
    "        \\frac{\\partial u_1}{\\partial x_2} & \n",
    "        \\frac{\\partial u_1}{\\partial x_3} \\\\[1ex] % <-- 1ex more space between rows of matrix\n",
    "      \\frac{\\partial u_2}{\\partial x_1} & \n",
    "        \\frac{\\partial u_2}{\\partial x_2} & \n",
    "        \\frac{\\partial u_2}{\\partial x_3} \\\\[1ex]\n",
    "      \\frac{\\partial u_3}{\\partial x_1} & \n",
    "        \\frac{\\partial u_3}{\\partial x_2} & \n",
    "        \\frac{\\partial u_3}{\\partial x_3}\n",
    "    \\end{bmatrix}\n",
    "\\end{equation}"
   ]
  },
  {
   "cell_type": "markdown",
   "metadata": {},
   "source": [
    "## The `autograd` package"
   ]
  },
  {
   "cell_type": "markdown",
   "metadata": {},
   "source": [
    "This package provides automatic differentiation for Tensors."
   ]
  },
  {
   "cell_type": "markdown",
   "metadata": {},
   "source": [
    "All `torch.Tensor` objects have an attribute called `.requires_grad`. When we set it as `True`, torch starts to track all the operations in order to compute its gradient. When all the computation is done, we can call the `.backward()` method, and the gradients will be computed and accumulated into `.grad` attribute."
   ]
  },
  {
   "cell_type": "markdown",
   "metadata": {},
   "source": [
    "If we want a `torch.Tensor` to stop tracking operations, we should call `.detach()`"
   ]
  },
  {
   "cell_type": "markdown",
   "metadata": {},
   "source": [
    "Each `torch.Tensor` that uses `.requires_grad`, uses its `.grad_fn` to store an auxiliar function that helps `autograd` to compute gradients."
   ]
  },
  {
   "cell_type": "markdown",
   "metadata": {},
   "source": [
    "### 1. Simple example"
   ]
  },
  {
   "cell_type": "markdown",
   "metadata": {},
   "source": [
    "Let $f$ be a differentiable function as, for example, $f = \\frac{1}{10} (x - 2)^2$. This way, $\\frac{\\partial f}{\\partial x} = - \\frac{1}{5} (x - 2)$.\n",
    "\n",
    "Now, lets suppose that $x = 1$. The gradient at this point shuold be $\\frac{\\partial f}{\\partial x} = - \\frac{1}{5}$."
   ]
  },
  {
   "cell_type": "code",
   "execution_count": 2,
   "metadata": {},
   "outputs": [
    {
     "name": "stdout",
     "output_type": "stream",
     "text": [
      "tensor([1.], requires_grad=True)\n"
     ]
    }
   ],
   "source": [
    "x = torch.ones(1, requires_grad=True)\n",
    "print(x)"
   ]
  },
  {
   "cell_type": "code",
   "execution_count": 3,
   "metadata": {},
   "outputs": [
    {
     "name": "stdout",
     "output_type": "stream",
     "text": [
      "tensor([0.1000], grad_fn=<MulBackward0>) <MulBackward0 object at 0x11e619048>\n"
     ]
    }
   ],
   "source": [
    "y = 1/10 * (x) **2\n",
    "print(y, y.grad_fn)"
   ]
  },
  {
   "cell_type": "code",
   "execution_count": 4,
   "metadata": {},
   "outputs": [],
   "source": [
    "y.backward()"
   ]
  },
  {
   "cell_type": "code",
   "execution_count": 5,
   "metadata": {},
   "outputs": [
    {
     "name": "stdout",
     "output_type": "stream",
     "text": [
      "The gradiend should be 1/5, and the result is: tensor([0.2000])\n"
     ]
    }
   ],
   "source": [
    "print(\"The gradiend should be 1/5, and the result is:\", x.grad)"
   ]
  },
  {
   "cell_type": "markdown",
   "metadata": {},
   "source": [
    "#### 2. Bigger inputs"
   ]
  },
  {
   "cell_type": "code",
   "execution_count": 6,
   "metadata": {},
   "outputs": [],
   "source": [
    "def f(x):\n",
    "    return x**3 - 2*x**2 + 2"
   ]
  },
  {
   "cell_type": "code",
   "execution_count": 7,
   "metadata": {},
   "outputs": [
    {
     "name": "stdout",
     "output_type": "stream",
     "text": [
      "tensor([1., 1., 1., 1., 1.], requires_grad=True)\n"
     ]
    }
   ],
   "source": [
    "x = torch.ones(5, requires_grad=True)\n",
    "print(x)"
   ]
  },
  {
   "cell_type": "code",
   "execution_count": 8,
   "metadata": {},
   "outputs": [
    {
     "name": "stdout",
     "output_type": "stream",
     "text": [
      "grad can be implicitly created only for scalar outputs\n"
     ]
    }
   ],
   "source": [
    "y = f(x)\n",
    "try:\n",
    "    y.backward()\n",
    "except RuntimeError as rte:\n",
    "    print(rte)"
   ]
  },
  {
   "cell_type": "markdown",
   "metadata": {},
   "source": [
    "As we can see, we only can call backward with scalar tensors. We'll always need a reduction function. The `.backward()` method must be called from the `torch.Tensor` that keeps the reduced value."
   ]
  },
  {
   "cell_type": "code",
   "execution_count": 9,
   "metadata": {},
   "outputs": [],
   "source": [
    "z = torch.mean(y)\n",
    "z.backward()"
   ]
  },
  {
   "cell_type": "markdown",
   "metadata": {},
   "source": [
    "All the gradients computed regarding the same variable. That means that we are computing the same gradient 5 times."
   ]
  },
  {
   "cell_type": "code",
   "execution_count": 10,
   "metadata": {},
   "outputs": [
    {
     "data": {
      "text/plain": [
       "tensor([-0.2000, -0.2000, -0.2000, -0.2000, -0.2000])"
      ]
     },
     "execution_count": 10,
     "metadata": {},
     "output_type": "execute_result"
    }
   ],
   "source": [
    "x.grad # !!"
   ]
  },
  {
   "cell_type": "markdown",
   "metadata": {},
   "source": [
    "#### 3. Plotting gradients"
   ]
  },
  {
   "cell_type": "code",
   "execution_count": 11,
   "metadata": {},
   "outputs": [],
   "source": [
    "import matplotlib.pyplot as plt"
   ]
  },
  {
   "cell_type": "code",
   "execution_count": 12,
   "metadata": {},
   "outputs": [],
   "source": [
    "x = torch.linspace(-1, 2, 100, requires_grad=True)\n",
    "#x = torch.zeros(10, requires_grad=True)\n",
    "#x = torch.ones(10, requires_grad=True) * 2\n",
    "y = f(x)"
   ]
  },
  {
   "cell_type": "code",
   "execution_count": 13,
   "metadata": {},
   "outputs": [],
   "source": [
    "z = torch.sum(y) # with sum it's ok, but using mean... se divide entre la longitud del array :S\n",
    "z.backward()"
   ]
  },
  {
   "cell_type": "markdown",
   "metadata": {},
   "source": [
    "A `torch.Tensor` that `requires_grad` can't be converted to numpy directly. It requires being detached. \n",
    "\n",
    "`!` detach creates a detached copy, but it doesn't detach the `torch.Tensor`."
   ]
  },
  {
   "cell_type": "code",
   "execution_count": 14,
   "metadata": {},
   "outputs": [
    {
     "data": {
      "text/plain": [
       "[<matplotlib.lines.Line2D at 0x11f5151d0>]"
      ]
     },
     "execution_count": 14,
     "metadata": {},
     "output_type": "execute_result"
    },
    {
     "data": {
      "image/png": "[encoded data removed]",
      "text/plain": [
       "<Figure size 432x288 with 1 Axes>"
      ]
     },
     "metadata": {
      "needs_background": "light"
     },
     "output_type": "display_data"
    }
   ],
   "source": [
    "plt.plot(x.detach().numpy(), y.detach().numpy())\n",
    "plt.plot(x.detach().numpy(), x.grad.detach().numpy())"
   ]
  }
 ],
 "metadata": {
  "kernelspec": {
   "display_name": "Python 3",
   "language": "python",
   "name": "python3"
  },
  "language_info": {
   "codemirror_mode": {
    "name": "ipython",
    "version": 3
   },
   "file_extension": ".py",
   "mimetype": "text/x-python",
   "name": "python",
   "nbconvert_exporter": "python",
   "pygments_lexer": "ipython3",
   "version": "3.7.3"
  }
 },
 "nbformat": 4,
 "nbformat_minor": 2
}
