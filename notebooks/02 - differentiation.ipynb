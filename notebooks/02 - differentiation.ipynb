{
 "cells": [
  {
   "cell_type": "code",
   "execution_count": 1,
   "metadata": {},
   "outputs": [],
   "source": [
    "import torch"
   ]
  },
  {
   "cell_type": "markdown",
   "metadata": {},
   "source": [
    "\\begin{equation}\n",
    "    u_{i,j} =\n",
    "    \\begin{bmatrix}\n",
    "      \\frac{\\partial u_1}{\\partial x_1} & \n",
    "        \\frac{\\partial u_1}{\\partial x_2} & \n",
    "        \\frac{\\partial u_1}{\\partial x_3} \\\\[1ex] % <-- 1ex more space between rows of matrix\n",
    "      \\frac{\\partial u_2}{\\partial x_1} & \n",
    "        \\frac{\\partial u_2}{\\partial x_2} & \n",
    "        \\frac{\\partial u_2}{\\partial x_3} \\\\[1ex]\n",
    "      \\frac{\\partial u_3}{\\partial x_1} & \n",
    "        \\frac{\\partial u_3}{\\partial x_2} & \n",
    "        \\frac{\\partial u_3}{\\partial x_3}\n",
    "    \\end{bmatrix}\n",
    "\\end{equation}"
   ]
  },
  {
   "cell_type": "code",
   "execution_count": null,
   "metadata": {},
   "outputs": [],
   "source": []
  }
 ],
 "metadata": {
  "kernelspec": {
   "display_name": "Python 3",
   "language": "python",
   "name": "python3"
  },
  "language_info": {
   "codemirror_mode": {
    "name": "ipython",
    "version": 3
   },
   "file_extension": ".py",
   "mimetype": "text/x-python",
   "name": "python",
   "nbconvert_exporter": "python",
   "pygments_lexer": "ipython3",
   "version": "3.7.3"
  }
 },
 "nbformat": 4,
 "nbformat_minor": 2
}
